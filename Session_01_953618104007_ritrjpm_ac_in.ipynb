{
  "nbformat": 4,
  "nbformat_minor": 0,
  "metadata": {
    "colab": {
      "name": "Session_01_953618104007@ritrjpm.ac.in.ipynb",
      "provenance": [],
      "collapsed_sections": [],
      "include_colab_link": true
    },
    "kernelspec": {
      "name": "python3",
      "display_name": "Python 3"
    },
    "language_info": {
      "name": "python"
    }
  },
  "cells": [
    {
      "cell_type": "markdown",
      "metadata": {
        "id": "view-in-github",
        "colab_type": "text"
      },
      "source": [
        "<a href=\"https://colab.research.google.com/github/Dharsni/SESSION/blob/main/Session_01_953618104007_ritrjpm_ac_in.ipynb\" target=\"_parent\"><img src=\"https://colab.research.google.com/assets/colab-badge.svg\" alt=\"Open In Colab\"/></a>"
      ]
    },
    {
      "cell_type": "markdown",
      "metadata": {
        "id": "Vsr0RuxF8gTt"
      },
      "source": [
        "#Workouts for the ML intro session\n"
      ]
    },
    {
      "cell_type": "markdown",
      "metadata": {
        "id": "VMrfCQbT8t-K"
      },
      "source": [
        "##Complete all the cells and upload the note book to github\n",
        "\n",
        "**Kindly use your own explanations and examples. you refer the internet but try to explain things with your own words and examples**\n"
      ]
    },
    {
      "cell_type": "markdown",
      "metadata": {
        "id": "4TiM_moD8-V_"
      },
      "source": [
        "\n",
        "\n",
        "1.  Will machine overtake humans in near future ? if yes explain why ? if not explain what prevents machines to learn/perform at human level ?\n",
        "\n",
        "Yes. In most cases we have already been overtaken. Because, machines are vastly smarter than humans.  \n",
        "\n",
        "\n",
        "\n"
      ]
    },
    {
      "cell_type": "markdown",
      "metadata": {
        "id": "W9aIe-Pl9uED"
      },
      "source": [
        "2. What recent development you think is very important or inspiring in machine learning/AI field ? just few words on any one or two\n",
        " \n",
        "AI getting better at emotion detection.\n",
        "Machine Learning used for art preservation."
      ]
    },
    {
      "cell_type": "markdown",
      "metadata": {
        "id": "XcQoFPwg-ChB"
      },
      "source": [
        "3. What is the differnce between regular programming or machine learning ?\n",
        "\n",
        "In regular programming we have to manually code rules. While in Machine Learning the algorithm automatically formulate the rules from data."
      ]
    },
    {
      "cell_type": "markdown",
      "metadata": {
        "id": "gJXmTK0r-Ydb"
      },
      "source": [
        "4. What is model is machine learning ?\n",
        "\n",
        " A “model” in machine learning is the output of a machine learning algorithm run on data. A model represents what was learned by a machine learning algorithm."
      ]
    },
    {
      "cell_type": "markdown",
      "metadata": {
        "id": "XGuClocF-dRX"
      },
      "source": [
        "5. how/where machine learning stores its learning ? \n",
        "\n",
        "Machine Learning is stored in parameters.\n"
      ]
    },
    {
      "cell_type": "markdown",
      "metadata": {
        "id": "SFVwc5jC-oDE"
      },
      "source": [
        "\n",
        "6. What is training ?\n",
        "\n",
        "Training is the initial dataset we use to teach the machine learning application to recognize our pattern."
      ]
    },
    {
      "cell_type": "markdown",
      "metadata": {
        "id": "BDx5DiJ4-ro_"
      },
      "source": [
        "7. what is reinforcement learning ?\n",
        "\n",
        "Reinforcement Learning is a feedback-based Machine Learning technique in which machine learning model is trained to make a sequence of decisions.\n"
      ]
    },
    {
      "cell_type": "markdown",
      "metadata": {
        "id": "hYk7xK_Z-9dN"
      },
      "source": [
        "8. Give use cases for classification, clustering and regression ?\n",
        "\n",
        "Classification Algorithms:\n",
        "Email Spam Detection,\n",
        "Speech Recognition,\n",
        "Identifications of Cancer tumor cells\n",
        "\n",
        "Clustering Algorithms:\n",
        "Document classification,\n",
        "Customer segmentation,\n",
        "Detecting anomalies\n",
        "\n",
        "Regression Algorithms:\n",
        "Sales forecasting,\n",
        "Risk assessment analysis in health insurance companies "
      ]
    },
    {
      "cell_type": "markdown",
      "metadata": {
        "id": "k0YwsEGa_baZ"
      },
      "source": [
        "9. What is dimension ? will more dimension be helpful to improve a machine learning model ? \n",
        "\n",
        "Dimension usually refers to the number of attributes.\n",
        "Dimension reduces the computational cost of the algorithm.\n",
        "\n"
      ]
    },
    {
      "cell_type": "markdown",
      "metadata": {
        "id": "-od_1BPK_ktN"
      },
      "source": [
        "10. what is hypothetical space ? explain with an example \n",
        "\n",
        "A hypothetical space is a space where we can predict output by a set of some legal hypothesis.\n",
        "For example,\n",
        "x1 x2 x3 x4 | y\n",
        "---------------\n",
        " 0  0  0  1 | 0\n",
        " 0  1  0  1 | 0\n",
        " 1  1  0  0 | 1\n",
        " 0  0  1  0 | 1\n",
        "The input space ie., the number of possible inputs is 24\n",
        "The hypothesis space is (224)65536 because for each set of features of the input space two outcomes (0 and 1) are possible."
      ]
    }
  ]
}